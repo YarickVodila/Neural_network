{
  "nbformat": 4,
  "nbformat_minor": 0,
  "metadata": {
    "colab": {
      "name": "Titanic.ipynb",
      "provenance": [],
      "collapsed_sections": [],
      "authorship_tag": "ABX9TyOoJm0VXqJT6qfEey+KgIkc",
      "include_colab_link": true
    },
    "kernelspec": {
      "name": "python3",
      "display_name": "Python 3"
    },
    "language_info": {
      "name": "python"
    }
  },
  "cells": [
    {
      "cell_type": "markdown",
      "metadata": {
        "id": "view-in-github",
        "colab_type": "text"
      },
      "source": [
        "<a href=\"https://colab.research.google.com/github/YarickVodila/Neural_network/blob/master/Titanic.ipynb\" target=\"_parent\"><img src=\"https://colab.research.google.com/assets/colab-badge.svg\" alt=\"Open In Colab\"/></a>"
      ]
    },
    {
      "cell_type": "code",
      "execution_count": null,
      "metadata": {
        "id": "kgBIHU2EE8WW"
      },
      "outputs": [],
      "source": [
        "import numpy as np\n",
        "import pandas as pd\n",
        "import pandas\n",
        "import tensorflow as tf\n",
        "import csv\n",
        "from tensorflow import keras\n",
        "from tensorflow.keras.models import Sequential\n",
        "from tensorflow.keras.layers import Dense, Dropout\n",
        "from tensorflow.keras import utils\n",
        "from sklearn import datasets\n",
        "from sklearn.preprocessing import OneHotEncoder\n",
        "import matplotlib.pyplot as plt\n",
        "from sklearn.model_selection import train_test_split\n",
        "from sklearn.tree import DecisionTreeClassifier\n",
        "from sklearn.ensemble import RandomForestClassifier\n",
        "from sklearn.metrics import r2_score\n",
        "#http://se.moevm.info/lib/exe/fetch.php/courses:artificial_neural_networks:pr_2.pdf"
      ]
    },
    {
      "cell_type": "markdown",
      "source": [
        "Pclass — класс пассажира (1 — высший, 2 — средний, 3 — низший);\n",
        "\n",
        "Name — имя;\n",
        "\n",
        "Sex — пол;\n",
        "\n",
        "Age — возраст;\n",
        "\n",
        "SibSp — количество братьев, сестер, сводных братьев, сводных сестер, супругов на борту титаника;\n",
        "\n",
        "Parch — количество родителей, детей (в том числе приемных) на борту титаника;\n",
        "\n",
        "Ticket — номер билета;\n",
        "\n",
        "Fare — плата за проезд;\n",
        "\n",
        "Cabin — каюта;\n",
        "\n",
        "Embarked — порт посадки (C — Шербур; Q — Квинстаун; S — Саутгемптон)."
      ],
      "metadata": {
        "id": "xOKxSSk3IMD8"
      }
    },
    {
      "cell_type": "code",
      "source": [
        "dataSurv = pd.read_csv('gender_submission.csv')\n",
        "dataTrain = pd.read_csv('train.csv')\n",
        "dataTest = pd.read_csv('test.csv')\n",
        "\n",
        "dataTrain.dropna(subset=[\"Pclass\", \"Sex\", \"SibSp\", \"Parch\",'Survived'], inplace=True) #Удаляем пустые данные\n",
        "dataTrain['Sex'] = dataTrain['Sex'].replace(to_replace=['male', 'female'], value=[1, 0])\n",
        "#dataTrain['Survived'] = dataTrain['Survived'].replace(to_replace=[1, 0], value=[, 0])\n",
        "\n",
        "dataTest['Survived'] = dataSurv['Survived']\n",
        "dataTest.dropna(subset=[\"Pclass\", \"Sex\", \"SibSp\", \"Parch\",'Survived' ], inplace=True) #Удаляем пустые данные\n",
        "dataTest['Sex'] = dataTest['Sex'].replace(to_replace=['male', 'female'], value=[1, 0])\n",
        "#dataTest['Survived'] = dataTest['Survived'].replace(to_replace=[1, 0], value=[50, 0])\n",
        "\n",
        "train_x = dataTrain[[\"Pclass\", \"Sex\", \"SibSp\", \"Parch\"]].to_numpy()\n",
        "train_y = dataTrain[['Survived']].to_numpy()\n",
        "\n",
        "test_x = dataTest[[\"Pclass\", \"Sex\", \"SibSp\", \"Parch\"]].to_numpy()\n",
        "test_y = dataTest[['Survived']].to_numpy()\n",
        "\n",
        "encoder = OneHotEncoder(sparse=False)\n",
        "#train_y = encoder.fit_transform(train_y)\n",
        "#est_y = encoder.transform(test_y)"
      ],
      "metadata": {
        "id": "m51XAgpSGGeH"
      },
      "execution_count": null,
      "outputs": []
    },
    {
      "cell_type": "code",
      "source": [
        "print(dataTest)"
      ],
      "metadata": {
        "id": "YTaHpj9vG7eB",
        "colab": {
          "base_uri": "https://localhost:8080/"
        },
        "outputId": "e6d845e0-1f17-4286-80f8-fa7b3e984027"
      },
      "execution_count": null,
      "outputs": [
        {
          "output_type": "stream",
          "name": "stdout",
          "text": [
            "     PassengerId  Pclass  ... Embarked  Survived\n",
            "0            892       3  ...        Q         0\n",
            "1            893       3  ...        S         1\n",
            "2            894       2  ...        Q         0\n",
            "3            895       3  ...        S         0\n",
            "4            896       3  ...        S         1\n",
            "..           ...     ...  ...      ...       ...\n",
            "413         1305       3  ...        S         0\n",
            "414         1306       1  ...        C         1\n",
            "415         1307       3  ...        S         0\n",
            "416         1308       3  ...        S         0\n",
            "417         1309       3  ...        C         0\n",
            "\n",
            "[418 rows x 12 columns]\n"
          ]
        }
      ]
    },
    {
      "cell_type": "code",
      "source": [
        "#Создаём нейронную сеть\n",
        "#,kernel_regularizer='l2_l1'\n",
        "#categorical_crossentropy\n",
        "#binary_crossentropy\n",
        "#RMSprop()\n",
        "model = keras.Sequential([\n",
        "                     keras.layers.Dense(16, input_shape=(4,), activation='relu'),\n",
        "                     keras.layers.Dense(16, activation='relu'),\n",
        "                     keras.layers.Dense(1, activation='sigmoid'),\n",
        "])\n",
        "model.compile(optimizer=tf.keras.optimizers.RMSprop(), loss='binary_crossentropy',metrics= ['BinaryAccuracy'])\n",
        "print(model.summary())"
      ],
      "metadata": {
        "id": "suv2TCnvJT2k",
        "colab": {
          "base_uri": "https://localhost:8080/"
        },
        "outputId": "86712994-efc6-4e54-e17e-6fae641add0e"
      },
      "execution_count": null,
      "outputs": [
        {
          "output_type": "stream",
          "name": "stdout",
          "text": [
            "Model: \"sequential_4\"\n",
            "_________________________________________________________________\n",
            " Layer (type)                Output Shape              Param #   \n",
            "=================================================================\n",
            " dense_23 (Dense)            (None, 16)                80        \n",
            "                                                                 \n",
            " dense_24 (Dense)            (None, 16)                272       \n",
            "                                                                 \n",
            " dense_25 (Dense)            (None, 1)                 17        \n",
            "                                                                 \n",
            "=================================================================\n",
            "Total params: 369\n",
            "Trainable params: 369\n",
            "Non-trainable params: 0\n",
            "_________________________________________________________________\n",
            "None\n"
          ]
        }
      ]
    },
    {
      "cell_type": "code",
      "source": [
        "model.fit(train_x, train_y, verbose=2,batch_size=3, epochs=200)"
      ],
      "metadata": {
        "colab": {
          "base_uri": "https://localhost:8080/"
        },
        "id": "rDENKNpYKeND",
        "outputId": "7945a0f2-f3bd-4590-d677-e97535d0928e"
      },
      "execution_count": null,
      "outputs": [
        {
          "output_type": "stream",
          "name": "stdout",
          "text": [
            "Epoch 1/200\n",
            "297/297 - 1s - loss: 0.6165 - binary_accuracy: 0.6420 - 908ms/epoch - 3ms/step\n",
            "Epoch 2/200\n",
            "297/297 - 0s - loss: 0.5433 - binary_accuracy: 0.7587 - 392ms/epoch - 1ms/step\n",
            "Epoch 3/200\n",
            "297/297 - 0s - loss: 0.5128 - binary_accuracy: 0.7845 - 366ms/epoch - 1ms/step\n",
            "Epoch 4/200\n",
            "297/297 - 0s - loss: 0.4948 - binary_accuracy: 0.7924 - 378ms/epoch - 1ms/step\n",
            "Epoch 5/200\n",
            "297/297 - 0s - loss: 0.4876 - binary_accuracy: 0.7879 - 383ms/epoch - 1ms/step\n",
            "Epoch 6/200\n",
            "297/297 - 0s - loss: 0.4788 - binary_accuracy: 0.7912 - 368ms/epoch - 1ms/step\n",
            "Epoch 7/200\n",
            "297/297 - 0s - loss: 0.4720 - binary_accuracy: 0.7946 - 362ms/epoch - 1ms/step\n",
            "Epoch 8/200\n",
            "297/297 - 0s - loss: 0.4656 - binary_accuracy: 0.7957 - 375ms/epoch - 1ms/step\n",
            "Epoch 9/200\n",
            "297/297 - 0s - loss: 0.4622 - binary_accuracy: 0.7957 - 372ms/epoch - 1ms/step\n",
            "Epoch 10/200\n",
            "297/297 - 0s - loss: 0.4586 - binary_accuracy: 0.8013 - 370ms/epoch - 1ms/step\n",
            "Epoch 11/200\n",
            "297/297 - 0s - loss: 0.4576 - binary_accuracy: 0.7980 - 395ms/epoch - 1ms/step\n",
            "Epoch 12/200\n",
            "297/297 - 0s - loss: 0.4560 - binary_accuracy: 0.8025 - 389ms/epoch - 1ms/step\n",
            "Epoch 13/200\n",
            "297/297 - 0s - loss: 0.4556 - binary_accuracy: 0.8047 - 371ms/epoch - 1ms/step\n",
            "Epoch 14/200\n",
            "297/297 - 0s - loss: 0.4543 - binary_accuracy: 0.8036 - 384ms/epoch - 1ms/step\n",
            "Epoch 15/200\n",
            "297/297 - 0s - loss: 0.4525 - binary_accuracy: 0.7991 - 368ms/epoch - 1ms/step\n",
            "Epoch 16/200\n",
            "297/297 - 0s - loss: 0.4482 - binary_accuracy: 0.8025 - 395ms/epoch - 1ms/step\n",
            "Epoch 17/200\n",
            "297/297 - 0s - loss: 0.4472 - binary_accuracy: 0.8047 - 367ms/epoch - 1ms/step\n",
            "Epoch 18/200\n",
            "297/297 - 0s - loss: 0.4461 - binary_accuracy: 0.8025 - 376ms/epoch - 1ms/step\n",
            "Epoch 19/200\n",
            "297/297 - 0s - loss: 0.4464 - binary_accuracy: 0.8002 - 373ms/epoch - 1ms/step\n",
            "Epoch 20/200\n",
            "297/297 - 0s - loss: 0.4462 - binary_accuracy: 0.7991 - 362ms/epoch - 1ms/step\n",
            "Epoch 21/200\n",
            "297/297 - 0s - loss: 0.4437 - binary_accuracy: 0.8081 - 374ms/epoch - 1ms/step\n",
            "Epoch 22/200\n",
            "297/297 - 0s - loss: 0.4438 - binary_accuracy: 0.8092 - 391ms/epoch - 1ms/step\n",
            "Epoch 23/200\n",
            "297/297 - 0s - loss: 0.4406 - binary_accuracy: 0.8047 - 361ms/epoch - 1ms/step\n",
            "Epoch 24/200\n",
            "297/297 - 0s - loss: 0.4421 - binary_accuracy: 0.8081 - 375ms/epoch - 1ms/step\n",
            "Epoch 25/200\n",
            "297/297 - 0s - loss: 0.4445 - binary_accuracy: 0.8070 - 376ms/epoch - 1ms/step\n",
            "Epoch 26/200\n",
            "297/297 - 0s - loss: 0.4361 - binary_accuracy: 0.8036 - 383ms/epoch - 1ms/step\n",
            "Epoch 27/200\n",
            "297/297 - 0s - loss: 0.4380 - binary_accuracy: 0.7980 - 381ms/epoch - 1ms/step\n",
            "Epoch 28/200\n",
            "297/297 - 0s - loss: 0.4413 - binary_accuracy: 0.8013 - 371ms/epoch - 1ms/step\n",
            "Epoch 29/200\n",
            "297/297 - 0s - loss: 0.4420 - binary_accuracy: 0.8002 - 382ms/epoch - 1ms/step\n",
            "Epoch 30/200\n",
            "297/297 - 0s - loss: 0.4394 - binary_accuracy: 0.8013 - 376ms/epoch - 1ms/step\n",
            "Epoch 31/200\n",
            "297/297 - 0s - loss: 0.4380 - binary_accuracy: 0.8058 - 357ms/epoch - 1ms/step\n",
            "Epoch 32/200\n",
            "297/297 - 0s - loss: 0.4388 - binary_accuracy: 0.8013 - 365ms/epoch - 1ms/step\n",
            "Epoch 33/200\n",
            "297/297 - 0s - loss: 0.4377 - binary_accuracy: 0.8070 - 379ms/epoch - 1ms/step\n",
            "Epoch 34/200\n",
            "297/297 - 0s - loss: 0.4382 - binary_accuracy: 0.8025 - 384ms/epoch - 1ms/step\n",
            "Epoch 35/200\n",
            "297/297 - 0s - loss: 0.4401 - binary_accuracy: 0.8058 - 376ms/epoch - 1ms/step\n",
            "Epoch 36/200\n",
            "297/297 - 0s - loss: 0.4369 - binary_accuracy: 0.8103 - 379ms/epoch - 1ms/step\n",
            "Epoch 37/200\n",
            "297/297 - 0s - loss: 0.4388 - binary_accuracy: 0.8070 - 368ms/epoch - 1ms/step\n",
            "Epoch 38/200\n",
            "297/297 - 0s - loss: 0.4367 - binary_accuracy: 0.8058 - 391ms/epoch - 1ms/step\n",
            "Epoch 39/200\n",
            "297/297 - 0s - loss: 0.4401 - binary_accuracy: 0.8070 - 361ms/epoch - 1ms/step\n",
            "Epoch 40/200\n",
            "297/297 - 0s - loss: 0.4375 - binary_accuracy: 0.8025 - 385ms/epoch - 1ms/step\n",
            "Epoch 41/200\n",
            "297/297 - 0s - loss: 0.4387 - binary_accuracy: 0.8126 - 369ms/epoch - 1ms/step\n",
            "Epoch 42/200\n",
            "297/297 - 0s - loss: 0.4379 - binary_accuracy: 0.8070 - 371ms/epoch - 1ms/step\n",
            "Epoch 43/200\n",
            "297/297 - 0s - loss: 0.4430 - binary_accuracy: 0.8070 - 379ms/epoch - 1ms/step\n",
            "Epoch 44/200\n",
            "297/297 - 0s - loss: 0.4362 - binary_accuracy: 0.8114 - 360ms/epoch - 1ms/step\n",
            "Epoch 45/200\n",
            "297/297 - 0s - loss: 0.4375 - binary_accuracy: 0.8103 - 365ms/epoch - 1ms/step\n",
            "Epoch 46/200\n",
            "297/297 - 0s - loss: 0.4393 - binary_accuracy: 0.8103 - 370ms/epoch - 1ms/step\n",
            "Epoch 47/200\n",
            "297/297 - 0s - loss: 0.4401 - binary_accuracy: 0.8070 - 375ms/epoch - 1ms/step\n",
            "Epoch 48/200\n",
            "297/297 - 0s - loss: 0.4386 - binary_accuracy: 0.8081 - 364ms/epoch - 1ms/step\n",
            "Epoch 49/200\n",
            "297/297 - 0s - loss: 0.4364 - binary_accuracy: 0.8081 - 377ms/epoch - 1ms/step\n",
            "Epoch 50/200\n",
            "297/297 - 0s - loss: 0.4416 - binary_accuracy: 0.8058 - 370ms/epoch - 1ms/step\n",
            "Epoch 51/200\n",
            "297/297 - 0s - loss: 0.4401 - binary_accuracy: 0.8070 - 370ms/epoch - 1ms/step\n",
            "Epoch 52/200\n",
            "297/297 - 0s - loss: 0.4420 - binary_accuracy: 0.8070 - 378ms/epoch - 1ms/step\n",
            "Epoch 53/200\n",
            "297/297 - 0s - loss: 0.4417 - binary_accuracy: 0.8036 - 377ms/epoch - 1ms/step\n",
            "Epoch 54/200\n",
            "297/297 - 0s - loss: 0.4410 - binary_accuracy: 0.8047 - 395ms/epoch - 1ms/step\n",
            "Epoch 55/200\n",
            "297/297 - 0s - loss: 0.4376 - binary_accuracy: 0.8103 - 359ms/epoch - 1ms/step\n",
            "Epoch 56/200\n",
            "297/297 - 0s - loss: 0.4420 - binary_accuracy: 0.8092 - 376ms/epoch - 1ms/step\n",
            "Epoch 57/200\n",
            "297/297 - 0s - loss: 0.4417 - binary_accuracy: 0.8081 - 362ms/epoch - 1ms/step\n",
            "Epoch 58/200\n",
            "297/297 - 0s - loss: 0.4421 - binary_accuracy: 0.8047 - 359ms/epoch - 1ms/step\n",
            "Epoch 59/200\n",
            "297/297 - 0s - loss: 0.4413 - binary_accuracy: 0.8081 - 373ms/epoch - 1ms/step\n",
            "Epoch 60/200\n",
            "297/297 - 0s - loss: 0.4400 - binary_accuracy: 0.8070 - 366ms/epoch - 1ms/step\n",
            "Epoch 61/200\n",
            "297/297 - 0s - loss: 0.4442 - binary_accuracy: 0.8047 - 373ms/epoch - 1ms/step\n",
            "Epoch 62/200\n",
            "297/297 - 0s - loss: 0.4450 - binary_accuracy: 0.8058 - 467ms/epoch - 2ms/step\n",
            "Epoch 63/200\n",
            "297/297 - 1s - loss: 0.4388 - binary_accuracy: 0.8070 - 524ms/epoch - 2ms/step\n",
            "Epoch 64/200\n",
            "297/297 - 1s - loss: 0.4414 - binary_accuracy: 0.8025 - 700ms/epoch - 2ms/step\n",
            "Epoch 65/200\n",
            "297/297 - 1s - loss: 0.4373 - binary_accuracy: 0.8070 - 544ms/epoch - 2ms/step\n",
            "Epoch 66/200\n",
            "297/297 - 1s - loss: 0.4450 - binary_accuracy: 0.8036 - 767ms/epoch - 3ms/step\n",
            "Epoch 67/200\n",
            "297/297 - 1s - loss: 0.4442 - binary_accuracy: 0.8103 - 706ms/epoch - 2ms/step\n",
            "Epoch 68/200\n",
            "297/297 - 1s - loss: 0.4418 - binary_accuracy: 0.8025 - 641ms/epoch - 2ms/step\n",
            "Epoch 69/200\n",
            "297/297 - 1s - loss: 0.4403 - binary_accuracy: 0.8114 - 992ms/epoch - 3ms/step\n",
            "Epoch 70/200\n",
            "297/297 - 1s - loss: 0.4442 - binary_accuracy: 0.8036 - 696ms/epoch - 2ms/step\n",
            "Epoch 71/200\n",
            "297/297 - 1s - loss: 0.4404 - binary_accuracy: 0.8081 - 629ms/epoch - 2ms/step\n",
            "Epoch 72/200\n",
            "297/297 - 1s - loss: 0.4446 - binary_accuracy: 0.8036 - 577ms/epoch - 2ms/step\n",
            "Epoch 73/200\n",
            "297/297 - 1s - loss: 0.4407 - binary_accuracy: 0.8092 - 773ms/epoch - 3ms/step\n",
            "Epoch 74/200\n",
            "297/297 - 1s - loss: 0.4416 - binary_accuracy: 0.8058 - 717ms/epoch - 2ms/step\n",
            "Epoch 75/200\n",
            "297/297 - 0s - loss: 0.4431 - binary_accuracy: 0.8081 - 478ms/epoch - 2ms/step\n",
            "Epoch 76/200\n",
            "297/297 - 0s - loss: 0.4447 - binary_accuracy: 0.8081 - 371ms/epoch - 1ms/step\n",
            "Epoch 77/200\n",
            "297/297 - 0s - loss: 0.4437 - binary_accuracy: 0.8036 - 376ms/epoch - 1ms/step\n",
            "Epoch 78/200\n",
            "297/297 - 0s - loss: 0.4383 - binary_accuracy: 0.8137 - 377ms/epoch - 1ms/step\n",
            "Epoch 79/200\n",
            "297/297 - 0s - loss: 0.4433 - binary_accuracy: 0.8025 - 375ms/epoch - 1ms/step\n",
            "Epoch 80/200\n",
            "297/297 - 0s - loss: 0.4408 - binary_accuracy: 0.8092 - 372ms/epoch - 1ms/step\n",
            "Epoch 81/200\n",
            "297/297 - 0s - loss: 0.4428 - binary_accuracy: 0.7991 - 366ms/epoch - 1ms/step\n",
            "Epoch 82/200\n",
            "297/297 - 0s - loss: 0.4406 - binary_accuracy: 0.8013 - 379ms/epoch - 1ms/step\n",
            "Epoch 83/200\n",
            "297/297 - 0s - loss: 0.4399 - binary_accuracy: 0.8126 - 359ms/epoch - 1ms/step\n",
            "Epoch 84/200\n",
            "297/297 - 0s - loss: 0.4412 - binary_accuracy: 0.8025 - 376ms/epoch - 1ms/step\n",
            "Epoch 85/200\n",
            "297/297 - 0s - loss: 0.4399 - binary_accuracy: 0.8047 - 360ms/epoch - 1ms/step\n",
            "Epoch 86/200\n",
            "297/297 - 0s - loss: 0.4394 - binary_accuracy: 0.8013 - 365ms/epoch - 1ms/step\n",
            "Epoch 87/200\n",
            "297/297 - 0s - loss: 0.4440 - binary_accuracy: 0.8025 - 383ms/epoch - 1ms/step\n",
            "Epoch 88/200\n",
            "297/297 - 0s - loss: 0.4407 - binary_accuracy: 0.8025 - 365ms/epoch - 1ms/step\n",
            "Epoch 89/200\n",
            "297/297 - 0s - loss: 0.4440 - binary_accuracy: 0.8036 - 362ms/epoch - 1ms/step\n",
            "Epoch 90/200\n",
            "297/297 - 0s - loss: 0.4437 - binary_accuracy: 0.8047 - 381ms/epoch - 1ms/step\n",
            "Epoch 91/200\n",
            "297/297 - 0s - loss: 0.4406 - binary_accuracy: 0.8103 - 377ms/epoch - 1ms/step\n",
            "Epoch 92/200\n",
            "297/297 - 0s - loss: 0.4449 - binary_accuracy: 0.8103 - 363ms/epoch - 1ms/step\n",
            "Epoch 93/200\n",
            "297/297 - 0s - loss: 0.4447 - binary_accuracy: 0.8058 - 376ms/epoch - 1ms/step\n",
            "Epoch 94/200\n",
            "297/297 - 0s - loss: 0.4405 - binary_accuracy: 0.8025 - 374ms/epoch - 1ms/step\n",
            "Epoch 95/200\n",
            "297/297 - 0s - loss: 0.4447 - binary_accuracy: 0.8047 - 382ms/epoch - 1ms/step\n",
            "Epoch 96/200\n",
            "297/297 - 0s - loss: 0.4411 - binary_accuracy: 0.8070 - 367ms/epoch - 1ms/step\n",
            "Epoch 97/200\n",
            "297/297 - 0s - loss: 0.4465 - binary_accuracy: 0.8047 - 377ms/epoch - 1ms/step\n",
            "Epoch 98/200\n",
            "297/297 - 0s - loss: 0.4438 - binary_accuracy: 0.8047 - 382ms/epoch - 1ms/step\n",
            "Epoch 99/200\n",
            "297/297 - 0s - loss: 0.4397 - binary_accuracy: 0.8070 - 366ms/epoch - 1ms/step\n",
            "Epoch 100/200\n",
            "297/297 - 0s - loss: 0.4415 - binary_accuracy: 0.8081 - 368ms/epoch - 1ms/step\n",
            "Epoch 101/200\n",
            "297/297 - 0s - loss: 0.4446 - binary_accuracy: 0.8070 - 369ms/epoch - 1ms/step\n",
            "Epoch 102/200\n",
            "297/297 - 0s - loss: 0.4420 - binary_accuracy: 0.8103 - 369ms/epoch - 1ms/step\n",
            "Epoch 103/200\n",
            "297/297 - 0s - loss: 0.4412 - binary_accuracy: 0.8081 - 375ms/epoch - 1ms/step\n",
            "Epoch 104/200\n",
            "297/297 - 0s - loss: 0.4431 - binary_accuracy: 0.8013 - 361ms/epoch - 1ms/step\n",
            "Epoch 105/200\n",
            "297/297 - 0s - loss: 0.4440 - binary_accuracy: 0.8092 - 358ms/epoch - 1ms/step\n",
            "Epoch 106/200\n",
            "297/297 - 0s - loss: 0.4403 - binary_accuracy: 0.8058 - 387ms/epoch - 1ms/step\n",
            "Epoch 107/200\n",
            "297/297 - 0s - loss: 0.4408 - binary_accuracy: 0.8081 - 376ms/epoch - 1ms/step\n",
            "Epoch 108/200\n",
            "297/297 - 0s - loss: 0.4439 - binary_accuracy: 0.8070 - 372ms/epoch - 1ms/step\n",
            "Epoch 109/200\n",
            "297/297 - 0s - loss: 0.4440 - binary_accuracy: 0.8036 - 376ms/epoch - 1ms/step\n",
            "Epoch 110/200\n",
            "297/297 - 0s - loss: 0.4448 - binary_accuracy: 0.8070 - 367ms/epoch - 1ms/step\n",
            "Epoch 111/200\n",
            "297/297 - 0s - loss: 0.4448 - binary_accuracy: 0.8047 - 371ms/epoch - 1ms/step\n",
            "Epoch 112/200\n",
            "297/297 - 0s - loss: 0.4465 - binary_accuracy: 0.8070 - 373ms/epoch - 1ms/step\n",
            "Epoch 113/200\n",
            "297/297 - 0s - loss: 0.4460 - binary_accuracy: 0.8092 - 370ms/epoch - 1ms/step\n",
            "Epoch 114/200\n",
            "297/297 - 0s - loss: 0.4443 - binary_accuracy: 0.8058 - 363ms/epoch - 1ms/step\n",
            "Epoch 115/200\n",
            "297/297 - 0s - loss: 0.4434 - binary_accuracy: 0.8047 - 368ms/epoch - 1ms/step\n",
            "Epoch 116/200\n",
            "297/297 - 0s - loss: 0.4452 - binary_accuracy: 0.8047 - 372ms/epoch - 1ms/step\n",
            "Epoch 117/200\n",
            "297/297 - 0s - loss: 0.4452 - binary_accuracy: 0.8103 - 365ms/epoch - 1ms/step\n",
            "Epoch 118/200\n",
            "297/297 - 0s - loss: 0.4435 - binary_accuracy: 0.8092 - 362ms/epoch - 1ms/step\n",
            "Epoch 119/200\n",
            "297/297 - 0s - loss: 0.4447 - binary_accuracy: 0.7991 - 355ms/epoch - 1ms/step\n",
            "Epoch 120/200\n",
            "297/297 - 0s - loss: 0.4417 - binary_accuracy: 0.8058 - 387ms/epoch - 1ms/step\n",
            "Epoch 121/200\n",
            "297/297 - 0s - loss: 0.4444 - binary_accuracy: 0.8047 - 383ms/epoch - 1ms/step\n",
            "Epoch 122/200\n",
            "297/297 - 0s - loss: 0.4420 - binary_accuracy: 0.8114 - 371ms/epoch - 1ms/step\n",
            "Epoch 123/200\n",
            "297/297 - 0s - loss: 0.4505 - binary_accuracy: 0.8047 - 375ms/epoch - 1ms/step\n",
            "Epoch 124/200\n",
            "297/297 - 0s - loss: 0.4412 - binary_accuracy: 0.8137 - 362ms/epoch - 1ms/step\n",
            "Epoch 125/200\n",
            "297/297 - 0s - loss: 0.4462 - binary_accuracy: 0.8081 - 361ms/epoch - 1ms/step\n",
            "Epoch 126/200\n",
            "297/297 - 0s - loss: 0.4465 - binary_accuracy: 0.8070 - 367ms/epoch - 1ms/step\n",
            "Epoch 127/200\n",
            "297/297 - 0s - loss: 0.4428 - binary_accuracy: 0.8070 - 362ms/epoch - 1ms/step\n",
            "Epoch 128/200\n",
            "297/297 - 0s - loss: 0.4445 - binary_accuracy: 0.8070 - 378ms/epoch - 1ms/step\n",
            "Epoch 129/200\n",
            "297/297 - 0s - loss: 0.4460 - binary_accuracy: 0.8013 - 367ms/epoch - 1ms/step\n",
            "Epoch 130/200\n",
            "297/297 - 0s - loss: 0.4438 - binary_accuracy: 0.8070 - 378ms/epoch - 1ms/step\n",
            "Epoch 131/200\n",
            "297/297 - 0s - loss: 0.4447 - binary_accuracy: 0.8047 - 369ms/epoch - 1ms/step\n",
            "Epoch 132/200\n",
            "297/297 - 0s - loss: 0.4441 - binary_accuracy: 0.8081 - 360ms/epoch - 1ms/step\n",
            "Epoch 133/200\n",
            "297/297 - 0s - loss: 0.4415 - binary_accuracy: 0.8081 - 365ms/epoch - 1ms/step\n",
            "Epoch 134/200\n",
            "297/297 - 0s - loss: 0.4469 - binary_accuracy: 0.8092 - 363ms/epoch - 1ms/step\n",
            "Epoch 135/200\n",
            "297/297 - 0s - loss: 0.4453 - binary_accuracy: 0.8036 - 376ms/epoch - 1ms/step\n",
            "Epoch 136/200\n",
            "297/297 - 0s - loss: 0.4461 - binary_accuracy: 0.8047 - 372ms/epoch - 1ms/step\n",
            "Epoch 137/200\n",
            "297/297 - 0s - loss: 0.4405 - binary_accuracy: 0.8070 - 375ms/epoch - 1ms/step\n",
            "Epoch 138/200\n",
            "297/297 - 0s - loss: 0.4431 - binary_accuracy: 0.8137 - 372ms/epoch - 1ms/step\n",
            "Epoch 139/200\n",
            "297/297 - 0s - loss: 0.4438 - binary_accuracy: 0.8025 - 379ms/epoch - 1ms/step\n",
            "Epoch 140/200\n",
            "297/297 - 0s - loss: 0.4411 - binary_accuracy: 0.8081 - 388ms/epoch - 1ms/step\n",
            "Epoch 141/200\n",
            "297/297 - 0s - loss: 0.4422 - binary_accuracy: 0.8058 - 365ms/epoch - 1ms/step\n",
            "Epoch 142/200\n",
            "297/297 - 0s - loss: 0.4433 - binary_accuracy: 0.8058 - 381ms/epoch - 1ms/step\n",
            "Epoch 143/200\n",
            "297/297 - 0s - loss: 0.4471 - binary_accuracy: 0.8092 - 370ms/epoch - 1ms/step\n",
            "Epoch 144/200\n",
            "297/297 - 0s - loss: 0.4468 - binary_accuracy: 0.8081 - 381ms/epoch - 1ms/step\n",
            "Epoch 145/200\n",
            "297/297 - 0s - loss: 0.4457 - binary_accuracy: 0.8047 - 374ms/epoch - 1ms/step\n",
            "Epoch 146/200\n",
            "297/297 - 0s - loss: 0.4449 - binary_accuracy: 0.8025 - 375ms/epoch - 1ms/step\n",
            "Epoch 147/200\n",
            "297/297 - 0s - loss: 0.4414 - binary_accuracy: 0.8126 - 394ms/epoch - 1ms/step\n",
            "Epoch 148/200\n",
            "297/297 - 0s - loss: 0.4485 - binary_accuracy: 0.8047 - 365ms/epoch - 1ms/step\n",
            "Epoch 149/200\n",
            "297/297 - 0s - loss: 0.4421 - binary_accuracy: 0.8036 - 374ms/epoch - 1ms/step\n",
            "Epoch 150/200\n",
            "297/297 - 0s - loss: 0.4433 - binary_accuracy: 0.8047 - 382ms/epoch - 1ms/step\n",
            "Epoch 151/200\n",
            "297/297 - 0s - loss: 0.4430 - binary_accuracy: 0.8058 - 362ms/epoch - 1ms/step\n",
            "Epoch 152/200\n",
            "297/297 - 0s - loss: 0.4422 - binary_accuracy: 0.7991 - 387ms/epoch - 1ms/step\n",
            "Epoch 153/200\n",
            "297/297 - 0s - loss: 0.4411 - binary_accuracy: 0.8002 - 369ms/epoch - 1ms/step\n",
            "Epoch 154/200\n",
            "297/297 - 0s - loss: 0.4412 - binary_accuracy: 0.8103 - 373ms/epoch - 1ms/step\n",
            "Epoch 155/200\n",
            "297/297 - 0s - loss: 0.4467 - binary_accuracy: 0.8070 - 381ms/epoch - 1ms/step\n",
            "Epoch 156/200\n",
            "297/297 - 0s - loss: 0.4438 - binary_accuracy: 0.8092 - 364ms/epoch - 1ms/step\n",
            "Epoch 157/200\n",
            "297/297 - 0s - loss: 0.4410 - binary_accuracy: 0.8114 - 364ms/epoch - 1ms/step\n",
            "Epoch 158/200\n",
            "297/297 - 0s - loss: 0.4452 - binary_accuracy: 0.8047 - 376ms/epoch - 1ms/step\n",
            "Epoch 159/200\n",
            "297/297 - 0s - loss: 0.4463 - binary_accuracy: 0.8070 - 368ms/epoch - 1ms/step\n",
            "Epoch 160/200\n",
            "297/297 - 0s - loss: 0.4378 - binary_accuracy: 0.8047 - 383ms/epoch - 1ms/step\n",
            "Epoch 161/200\n",
            "297/297 - 0s - loss: 0.4459 - binary_accuracy: 0.8081 - 378ms/epoch - 1ms/step\n",
            "Epoch 162/200\n",
            "297/297 - 0s - loss: 0.4449 - binary_accuracy: 0.8036 - 373ms/epoch - 1ms/step\n",
            "Epoch 163/200\n",
            "297/297 - 0s - loss: 0.4442 - binary_accuracy: 0.8025 - 389ms/epoch - 1ms/step\n",
            "Epoch 164/200\n",
            "297/297 - 0s - loss: 0.4463 - binary_accuracy: 0.8103 - 367ms/epoch - 1ms/step\n",
            "Epoch 165/200\n",
            "297/297 - 0s - loss: 0.4475 - binary_accuracy: 0.8081 - 365ms/epoch - 1ms/step\n",
            "Epoch 166/200\n",
            "297/297 - 0s - loss: 0.4459 - binary_accuracy: 0.8047 - 375ms/epoch - 1ms/step\n",
            "Epoch 167/200\n",
            "297/297 - 0s - loss: 0.4410 - binary_accuracy: 0.8025 - 376ms/epoch - 1ms/step\n",
            "Epoch 168/200\n",
            "297/297 - 0s - loss: 0.4507 - binary_accuracy: 0.8070 - 369ms/epoch - 1ms/step\n",
            "Epoch 169/200\n",
            "297/297 - 0s - loss: 0.4439 - binary_accuracy: 0.8058 - 381ms/epoch - 1ms/step\n",
            "Epoch 170/200\n",
            "297/297 - 0s - loss: 0.4456 - binary_accuracy: 0.8126 - 382ms/epoch - 1ms/step\n",
            "Epoch 171/200\n",
            "297/297 - 0s - loss: 0.4460 - binary_accuracy: 0.8047 - 374ms/epoch - 1ms/step\n",
            "Epoch 172/200\n",
            "297/297 - 0s - loss: 0.4428 - binary_accuracy: 0.8013 - 368ms/epoch - 1ms/step\n",
            "Epoch 173/200\n",
            "297/297 - 0s - loss: 0.4497 - binary_accuracy: 0.8092 - 371ms/epoch - 1ms/step\n",
            "Epoch 174/200\n",
            "297/297 - 0s - loss: 0.4469 - binary_accuracy: 0.8103 - 370ms/epoch - 1ms/step\n",
            "Epoch 175/200\n",
            "297/297 - 0s - loss: 0.4454 - binary_accuracy: 0.8081 - 397ms/epoch - 1ms/step\n",
            "Epoch 176/200\n",
            "297/297 - 0s - loss: 0.4454 - binary_accuracy: 0.8070 - 371ms/epoch - 1ms/step\n",
            "Epoch 177/200\n",
            "297/297 - 0s - loss: 0.4489 - binary_accuracy: 0.8103 - 375ms/epoch - 1ms/step\n",
            "Epoch 178/200\n",
            "297/297 - 0s - loss: 0.4485 - binary_accuracy: 0.8092 - 378ms/epoch - 1ms/step\n",
            "Epoch 179/200\n",
            "297/297 - 0s - loss: 0.4434 - binary_accuracy: 0.8047 - 376ms/epoch - 1ms/step\n",
            "Epoch 180/200\n",
            "297/297 - 0s - loss: 0.4518 - binary_accuracy: 0.8114 - 373ms/epoch - 1ms/step\n",
            "Epoch 181/200\n",
            "297/297 - 0s - loss: 0.4511 - binary_accuracy: 0.8058 - 363ms/epoch - 1ms/step\n",
            "Epoch 182/200\n",
            "297/297 - 0s - loss: 0.4509 - binary_accuracy: 0.8047 - 385ms/epoch - 1ms/step\n",
            "Epoch 183/200\n",
            "297/297 - 0s - loss: 0.4504 - binary_accuracy: 0.8047 - 376ms/epoch - 1ms/step\n",
            "Epoch 184/200\n",
            "297/297 - 0s - loss: 0.4456 - binary_accuracy: 0.8114 - 382ms/epoch - 1ms/step\n",
            "Epoch 185/200\n",
            "297/297 - 0s - loss: 0.4508 - binary_accuracy: 0.8092 - 389ms/epoch - 1ms/step\n",
            "Epoch 186/200\n",
            "297/297 - 0s - loss: 0.4505 - binary_accuracy: 0.8103 - 382ms/epoch - 1ms/step\n",
            "Epoch 187/200\n",
            "297/297 - 0s - loss: 0.4479 - binary_accuracy: 0.8081 - 377ms/epoch - 1ms/step\n",
            "Epoch 188/200\n",
            "297/297 - 0s - loss: 0.4444 - binary_accuracy: 0.8103 - 366ms/epoch - 1ms/step\n",
            "Epoch 189/200\n",
            "297/297 - 0s - loss: 0.4474 - binary_accuracy: 0.8047 - 363ms/epoch - 1ms/step\n",
            "Epoch 190/200\n",
            "297/297 - 0s - loss: 0.4448 - binary_accuracy: 0.8092 - 375ms/epoch - 1ms/step\n",
            "Epoch 191/200\n",
            "297/297 - 0s - loss: 0.4511 - binary_accuracy: 0.8081 - 369ms/epoch - 1ms/step\n",
            "Epoch 192/200\n",
            "297/297 - 0s - loss: 0.4465 - binary_accuracy: 0.8047 - 380ms/epoch - 1ms/step\n",
            "Epoch 193/200\n",
            "297/297 - 0s - loss: 0.4420 - binary_accuracy: 0.8070 - 364ms/epoch - 1ms/step\n",
            "Epoch 194/200\n",
            "297/297 - 0s - loss: 0.4464 - binary_accuracy: 0.8036 - 372ms/epoch - 1ms/step\n",
            "Epoch 195/200\n",
            "297/297 - 0s - loss: 0.4483 - binary_accuracy: 0.8036 - 367ms/epoch - 1ms/step\n",
            "Epoch 196/200\n",
            "297/297 - 0s - loss: 0.4440 - binary_accuracy: 0.8047 - 388ms/epoch - 1ms/step\n",
            "Epoch 197/200\n",
            "297/297 - 0s - loss: 0.4483 - binary_accuracy: 0.8114 - 379ms/epoch - 1ms/step\n",
            "Epoch 198/200\n",
            "297/297 - 0s - loss: 0.4430 - binary_accuracy: 0.8070 - 375ms/epoch - 1ms/step\n",
            "Epoch 199/200\n",
            "297/297 - 0s - loss: 0.4487 - binary_accuracy: 0.8114 - 368ms/epoch - 1ms/step\n",
            "Epoch 200/200\n",
            "297/297 - 0s - loss: 0.4501 - binary_accuracy: 0.8058 - 368ms/epoch - 1ms/step\n"
          ]
        },
        {
          "output_type": "execute_result",
          "data": {
            "text/plain": [
              "<keras.callbacks.History at 0x7f1e6059f710>"
            ]
          },
          "metadata": {},
          "execution_count": 23
        }
      ]
    },
    {
      "cell_type": "code",
      "source": [
        "test_loss, test_acc = model.evaluate(train_x, train_y)\n",
        "print('Тренировочная точность = ', test_acc)"
      ],
      "metadata": {
        "colab": {
          "base_uri": "https://localhost:8080/"
        },
        "id": "fmRUGGBetRiK",
        "outputId": "96e8e1e2-ef4e-4239-9460-c8b4ecf77329"
      },
      "execution_count": null,
      "outputs": [
        {
          "output_type": "stream",
          "name": "stdout",
          "text": [
            "28/28 [==============================] - 0s 1ms/step - loss: 0.4386 - binary_accuracy: 0.8092\n",
            "Тренировочная точность =  0.8092031478881836\n"
          ]
        }
      ]
    },
    {
      "cell_type": "code",
      "source": [
        "test_loss, test_acc = model.evaluate(test_x, test_y)\n",
        "print('Тестовая точность = ', test_acc)"
      ],
      "metadata": {
        "colab": {
          "base_uri": "https://localhost:8080/"
        },
        "id": "OU8d6rb5an0G",
        "outputId": "261615a1-c4b2-49c7-f1ec-d9ab5727eb13"
      },
      "execution_count": null,
      "outputs": [
        {
          "output_type": "stream",
          "name": "stdout",
          "text": [
            "14/14 [==============================] - 0s 1ms/step - loss: 0.3375 - binary_accuracy: 0.9761\n",
            "Тестовая точность =  0.9760765433311462\n"
          ]
        }
      ]
    },
    {
      "cell_type": "code",
      "source": [
        "history_dict = model.history\n",
        "#print(history_dict)"
      ],
      "metadata": {
        "id": "5A5oNOKtti47"
      },
      "execution_count": null,
      "outputs": []
    },
    {
      "cell_type": "code",
      "source": [
        "prediction = model.predict(test_x)\n",
        "number = 11\n",
        "#print(prediction)\n",
        "\"\"\"\n",
        "for i in range(len(test_x)):\n",
        "  print('Предсказываю (округленные) = ',round(prediction[i][0]),\n",
        "        #'\\n','Предсказываю  = ',prediction[i],\n",
        "        '\\n','Ответ = ',test_y[i],sep='')\n",
        "\"\"\""
      ],
      "metadata": {
        "id": "boRmJQ3qcSg3",
        "colab": {
          "base_uri": "https://localhost:8080/",
          "height": 53
        },
        "outputId": "14d94808-c263-49b4-8fa7-2cfdfb26030d"
      },
      "execution_count": null,
      "outputs": [
        {
          "output_type": "execute_result",
          "data": {
            "application/vnd.google.colaboratory.intrinsic+json": {
              "type": "string"
            },
            "text/plain": [
              "\"\\nfor i in range(len(test_x)):\\n  print('Предсказываю (округленные) = ',round(prediction[i][0]),\\n        #'\\n','Предсказываю  = ',prediction[i],\\n        '\\n','Ответ = ',test_y[i],sep='')\\n\""
            ]
          },
          "metadata": {},
          "execution_count": 27
        }
      ]
    },
    {
      "cell_type": "code",
      "source": [
        "prediction = model.predict(test_x)\n",
        "prediction = pd.DataFrame(prediction)\n",
        "tit = dataTest.iloc[: ,:1]\n",
        "tit['Survived'] = prediction[0].round()\n",
        "tit.set_index('PassengerId', inplace=True)\n",
        "tit = tit.astype({'Survived': np.int})\n",
        "print(tit)\n",
        "tit.to_csv('Titanic.csv', sep=',')"
      ],
      "metadata": {
        "id": "XproQZbyi75T",
        "colab": {
          "base_uri": "https://localhost:8080/"
        },
        "outputId": "b6acd37d-e4ba-4371-c087-6d70052a0ab7"
      },
      "execution_count": null,
      "outputs": [
        {
          "output_type": "stream",
          "name": "stdout",
          "text": [
            "             Survived\n",
            "PassengerId          \n",
            "892                 0\n",
            "893                 1\n",
            "894                 0\n",
            "895                 0\n",
            "896                 1\n",
            "...               ...\n",
            "1305                0\n",
            "1306                1\n",
            "1307                0\n",
            "1308                0\n",
            "1309                0\n",
            "\n",
            "[418 rows x 1 columns]\n"
          ]
        },
        {
          "output_type": "stream",
          "name": "stderr",
          "text": [
            "/usr/local/lib/python3.7/dist-packages/ipykernel_launcher.py:6: DeprecationWarning: `np.int` is a deprecated alias for the builtin `int`. To silence this warning, use `int` by itself. Doing this will not modify any behavior and is safe. When replacing `np.int`, you may wish to use e.g. `np.int64` or `np.int32` to specify the precision. If you wish to review your current use, check the release note link for additional information.\n",
            "Deprecated in NumPy 1.20; for more details and guidance: https://numpy.org/devdocs/release/1.20.0-notes.html#deprecations\n",
            "  \n"
          ]
        }
      ]
    },
    {
      "cell_type": "code",
      "source": [
        "clf = DecisionTreeClassifier(random_state=1)\n",
        "clf.fit(train_x, train_y)\n",
        "\n",
        "prediction = clf.predict(train_x)\n",
        "score = r2_score(train_y ,prediction)\n",
        "print(score)\n",
        "\n",
        "prediction = clf.predict(test_x)\n",
        "prediction = pd.DataFrame(prediction)\n",
        "\n",
        "#print(prediction2)\n",
        "tit = dataTest.iloc[: , :1]\n",
        "tit['Survived'] = prediction\n",
        "tit.set_index('PassengerId', inplace=True)\n",
        "tit = tit.astype({'Survived': np.int})\n",
        "#print(tit)\n",
        "tit.to_csv('Titanic.csv', sep=',')\n"
      ],
      "metadata": {
        "colab": {
          "base_uri": "https://localhost:8080/"
        },
        "id": "mqmVJEJSiLzi",
        "outputId": "4f26e9e3-e0d7-4a4b-9647-d9759c23c7ec"
      },
      "execution_count": null,
      "outputs": [
        {
          "output_type": "stream",
          "name": "stdout",
          "text": [
            "0.22648835202760986\n"
          ]
        },
        {
          "output_type": "stream",
          "name": "stderr",
          "text": [
            "/usr/local/lib/python3.7/dist-packages/ipykernel_launcher.py:15: DeprecationWarning: `np.int` is a deprecated alias for the builtin `int`. To silence this warning, use `int` by itself. Doing this will not modify any behavior and is safe. When replacing `np.int`, you may wish to use e.g. `np.int64` or `np.int32` to specify the precision. If you wish to review your current use, check the release note link for additional information.\n",
            "Deprecated in NumPy 1.20; for more details and guidance: https://numpy.org/devdocs/release/1.20.0-notes.html#deprecations\n",
            "  from ipykernel import kernelapp as app\n"
          ]
        }
      ]
    },
    {
      "cell_type": "code",
      "source": [
        "clf = RandomForestClassifier(n_estimators=100,random_state=1)\n",
        "clf.fit(train_x, train_y)\n",
        "\n",
        "prediction = pd.DataFrame(clf.predict(test_x))\n",
        "#print(prediction2)\n",
        "tit = dataTest.iloc[: , :1]\n",
        "tit['Survived'] = prediction\n",
        "tit.set_index('PassengerId', inplace=True)\n",
        "tit = tit.astype({'Survived': np.int})\n",
        "#print(tit)\n",
        "tit.to_csv('Titanic.csv', sep=',')\n",
        "\n"
      ],
      "metadata": {
        "colab": {
          "base_uri": "https://localhost:8080/"
        },
        "id": "gwjEOz0wk0g9",
        "outputId": "37e3e62c-8630-4629-8d63-825ba5a68cda"
      },
      "execution_count": null,
      "outputs": [
        {
          "output_type": "stream",
          "name": "stderr",
          "text": [
            "/usr/local/lib/python3.7/dist-packages/ipykernel_launcher.py:2: DataConversionWarning: A column-vector y was passed when a 1d array was expected. Please change the shape of y to (n_samples,), for example using ravel().\n",
            "  \n",
            "/usr/local/lib/python3.7/dist-packages/ipykernel_launcher.py:9: DeprecationWarning: `np.int` is a deprecated alias for the builtin `int`. To silence this warning, use `int` by itself. Doing this will not modify any behavior and is safe. When replacing `np.int`, you may wish to use e.g. `np.int64` or `np.int32` to specify the precision. If you wish to review your current use, check the release note link for additional information.\n",
            "Deprecated in NumPy 1.20; for more details and guidance: https://numpy.org/devdocs/release/1.20.0-notes.html#deprecations\n",
            "  if __name__ == '__main__':\n"
          ]
        }
      ]
    }
  ]
}